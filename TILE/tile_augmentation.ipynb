{
 "cells": [
  {
   "cell_type": "markdown",
   "metadata": {},
   "source": [
    "split 4"
   ]
  },
  {
   "cell_type": "code",
   "execution_count": 3,
   "metadata": {},
   "outputs": [
    {
     "name": "stdout",
     "output_type": "stream",
     "text": [
      "All images have been divided into 4 parts and saved in 'Images/Negative'\n"
     ]
    }
   ],
   "source": [
    "from PIL import Image\n",
    "import os\n",
    "\n",
    "# Input and output directories\n",
    "input_dir = 'ori'  # Folder containing original images\n",
    "output_dir = 'Images/Negative'  # Folder to save the divided parts\n",
    "os.makedirs(output_dir, exist_ok=True)\n",
    "\n",
    "def cut_image_into_4_parts(image_path, output_dir, image_name):\n",
    "    img = Image.open(image_path)\n",
    "    width, height = img.size\n",
    "\n",
    "    # Calculate dimensions of each part\n",
    "    part_width = width // 2\n",
    "    part_height = height // 2\n",
    "\n",
    "    # Loop through each grid position and save the parts\n",
    "    for row in range(2):\n",
    "        for col in range(2):\n",
    "            left = col * part_width\n",
    "            upper = row * part_height\n",
    "            right = left + part_width\n",
    "            lower = upper + part_height\n",
    "\n",
    "            # Crop the image\n",
    "            cropped_img = img.crop((left, upper, right, lower))\n",
    "\n",
    "            # Save the cropped part\n",
    "            part_name = f\"{image_name}_part_{row}_{col}.jpg\"\n",
    "            cropped_img.save(os.path.join(output_dir, part_name))\n",
    "\n",
    "# Process all images in the input directory\n",
    "for file_name in os.listdir(input_dir):\n",
    "    if file_name.lower().endswith(('.jpg', '.jpeg', '.png')):\n",
    "        image_path = os.path.join(input_dir, file_name)\n",
    "        image_name, _ = os.path.splitext(file_name)\n",
    "        cut_image_into_4_parts(image_path, output_dir, image_name)\n",
    "\n",
    "print(f\"All images have been divided into 4 parts and saved in '{output_dir}'\")\n"
   ]
  },
  {
   "cell_type": "markdown",
   "metadata": {},
   "source": [
    "Horizontal split"
   ]
  },
  {
   "cell_type": "code",
   "execution_count": 1,
   "metadata": {},
   "outputs": [
    {
     "name": "stdout",
     "output_type": "stream",
     "text": [
      "All images have been divided into 2 horizontal parts and saved in 'data_tile/train/Negative'\n"
     ]
    }
   ],
   "source": [
    "from PIL import Image\n",
    "import os\n",
    "\n",
    "# Input and output directories\n",
    "input_dir = 'ori_neg 2'  # Folder containing original images\n",
    "output_dir = 'data_tile/train/Negative'  # Folder to save the divided parts\n",
    "os.makedirs(output_dir, exist_ok=True)\n",
    "\n",
    "def cut_image_into_2_horizontal_parts(image_path, output_dir, image_name):\n",
    "    img = Image.open(image_path)\n",
    "    width, height = img.size\n",
    "\n",
    "    # Calculate dimensions of each part\n",
    "    part_height = height // 2\n",
    "\n",
    "    # Loop through each half and save the parts\n",
    "    for i in range(2):\n",
    "        upper = i * part_height\n",
    "        lower = upper + part_height if i < 1 else height  # Ensure the last part covers the remaining height\n",
    "\n",
    "        # Crop the image\n",
    "        cropped_img = img.crop((0, upper, width, lower))\n",
    "\n",
    "        # Save the cropped part\n",
    "        part_name = f\"{image_name}_part_{i + 1}.jpg\"\n",
    "        cropped_img.save(os.path.join(output_dir, part_name))\n",
    "\n",
    "# Process all images in the input directory\n",
    "for file_name in os.listdir(input_dir):\n",
    "    if file_name.lower().endswith(('.jpg', '.jpeg', '.png')):\n",
    "        image_path = os.path.join(input_dir, file_name)\n",
    "        image_name, _ = os.path.splitext(file_name)\n",
    "        cut_image_into_2_horizontal_parts(image_path, output_dir, image_name)\n",
    "\n",
    "print(f\"All images have been divided into 2 horizontal parts and saved in '{output_dir}'\")\n"
   ]
  },
  {
   "cell_type": "markdown",
   "metadata": {},
   "source": [
    "Divide images"
   ]
  },
  {
   "cell_type": "code",
   "execution_count": 4,
   "metadata": {},
   "outputs": [
    {
     "name": "stdout",
     "output_type": "stream",
     "text": [
      "Images have been split into train, val, and test folders in 'data_tile'.\n"
     ]
    }
   ],
   "source": [
    "import os\n",
    "import shutil\n",
    "import random\n",
    "\n",
    "# Paths\n",
    "source_dir = 'Images'  # Source folder containing Negative and Positive folders\n",
    "destination_dir = 'data_tile'  # Destination folder containing train, val, and test folders\n",
    "categories = ['Negative', 'Positive']  # Subfolders in Images\n",
    "\n",
    "# Ratios for splitting\n",
    "train_ratio = 0.8\n",
    "val_ratio = 0.1\n",
    "test_ratio = 0.1\n",
    "\n",
    "# Ensure destination folders exist\n",
    "for split in ['train', 'val', 'test']:\n",
    "    for category in categories:\n",
    "        os.makedirs(os.path.join(destination_dir, split, category), exist_ok=True)\n",
    "\n",
    "# Function to split data\n",
    "def split_data(category):\n",
    "    category_path = os.path.join(source_dir, category)\n",
    "    images = [img for img in os.listdir(category_path) if img.lower().endswith(('.jpg', '.jpeg', '.png'))]\n",
    "    random.shuffle(images)\n",
    "\n",
    "    total_images = len(images)\n",
    "    train_count = int(total_images * train_ratio)\n",
    "    val_count = int(total_images * val_ratio)\n",
    "\n",
    "    train_images = images[:train_count]\n",
    "    val_images = images[train_count:train_count + val_count]\n",
    "    test_images = images[train_count + val_count:]\n",
    "\n",
    "    # Move images to corresponding folders\n",
    "    for img_list, split in zip([train_images, val_images, test_images], ['train', 'val', 'test']):\n",
    "        for img in img_list:\n",
    "            src_path = os.path.join(category_path, img)\n",
    "            dest_path = os.path.join(destination_dir, split, category, img)\n",
    "            shutil.copy(src_path, dest_path)\n",
    "\n",
    "# Process each category\n",
    "for category in categories:\n",
    "    split_data(category)\n",
    "\n",
    "print(f\"Images have been split into train, val, and test folders in '{destination_dir}'.\")\n"
   ]
  }
 ],
 "metadata": {
  "colab": {
   "provenance": []
  },
  "kernelspec": {
   "display_name": "Python 3",
   "language": "python",
   "name": "python3"
  },
  "language_info": {
   "codemirror_mode": {
    "name": "ipython",
    "version": 3
   },
   "file_extension": ".py",
   "mimetype": "text/x-python",
   "name": "python",
   "nbconvert_exporter": "python",
   "pygments_lexer": "ipython3",
   "version": "3.12.3"
  }
 },
 "nbformat": 4,
 "nbformat_minor": 1
}
