{
 "cells": [
  {
   "cell_type": "code",
   "execution_count": 1,
   "metadata": {},
   "outputs": [
    {
     "name": "stdout",
     "output_type": "stream",
     "text": [
      "Images from 'conc' have been divided into train, val, and test sets in 'data_concrete'.\n"
     ]
    }
   ],
   "source": [
    "import os\n",
    "import shutil\n",
    "from math import floor\n",
    "\n",
    "# Input and output directories\n",
    "input_dir = 'conc'  # Folder containing original images (Negative and Positive folders)\n",
    "output_dir = 'data_concrete'  # Folder to save the divided datasets\n",
    "os.makedirs(output_dir, exist_ok=True)\n",
    "\n",
    "# Create subdirectories for train, val, and test\n",
    "for split in ['train', 'val', 'test']:\n",
    "    for category in ['Negative', 'Positive']:\n",
    "        os.makedirs(os.path.join(output_dir, split, category), exist_ok=True)\n",
    "\n",
    "# Function to split images\n",
    "def split_images(input_category_dir, output_dir, category, train_ratio=0.7, val_ratio=0.15):\n",
    "    images = [img for img in os.listdir(input_category_dir) if img.lower().endswith(('.jpg', '.jpeg', '.png'))]\n",
    "    total_images = len(images)\n",
    "    \n",
    "    # Calculate split sizes\n",
    "    train_size = floor(total_images * train_ratio)\n",
    "    val_size = floor(total_images * val_ratio)\n",
    "    test_size = total_images - train_size - val_size\n",
    "\n",
    "    # Shuffle images to ensure randomness\n",
    "    images = sorted(images)  # Or use random.shuffle(images) for true randomness\n",
    "\n",
    "    # Split the images\n",
    "    train_images = images[:train_size]\n",
    "    val_images = images[train_size:train_size + val_size]\n",
    "    test_images = images[train_size + val_size:]\n",
    "\n",
    "    # Copy images to respective folders\n",
    "    for img_name in train_images:\n",
    "        shutil.copy(os.path.join(input_category_dir, img_name), os.path.join(output_dir, 'train', category, img_name))\n",
    "    for img_name in val_images:\n",
    "        shutil.copy(os.path.join(input_category_dir, img_name), os.path.join(output_dir, 'val', category, img_name))\n",
    "    for img_name in test_images:\n",
    "        shutil.copy(os.path.join(input_category_dir, img_name), os.path.join(output_dir, 'test', category, img_name))\n",
    "\n",
    "# Process Negative and Positive folders\n",
    "for category in ['Negative', 'Positive']:\n",
    "    category_dir = os.path.join(input_dir, category)\n",
    "    split_images(category_dir, output_dir, category)\n",
    "\n",
    "print(f\"Images from '{input_dir}' have been divided into train, val, and test sets in '{output_dir}'.\")\n"
   ]
  }
 ],
 "metadata": {
  "colab": {
   "provenance": []
  },
  "kernelspec": {
   "display_name": "Python 3",
   "language": "python",
   "name": "python3"
  },
  "language_info": {
   "codemirror_mode": {
    "name": "ipython",
    "version": 3
   },
   "file_extension": ".py",
   "mimetype": "text/x-python",
   "name": "python",
   "nbconvert_exporter": "python",
   "pygments_lexer": "ipython3",
   "version": "3.12.3"
  }
 },
 "nbformat": 4,
 "nbformat_minor": 1
}
